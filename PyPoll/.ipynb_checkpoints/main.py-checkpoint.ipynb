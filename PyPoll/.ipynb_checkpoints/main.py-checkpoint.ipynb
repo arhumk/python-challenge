{
 "cells": [
  {
   "cell_type": "code",
   "execution_count": 17,
   "metadata": {},
   "outputs": [],
   "source": [
    "import os\n",
    "import csv"
   ]
  },
  {
   "cell_type": "code",
   "execution_count": 24,
   "metadata": {},
   "outputs": [
    {
     "data": {
      "text/plain": [
       "'Resources/election_data.csv'"
      ]
     },
     "execution_count": 24,
     "metadata": {},
     "output_type": "execute_result"
    }
   ],
   "source": [
    "election_data = os.path.join(\"Resources/election_data.csv\")\n",
    "election_data"
   ]
  },
  {
   "cell_type": "code",
   "execution_count": null,
   "metadata": {},
   "outputs": [],
   "source": [
    "#The total number of votes cast\n",
    "\n",
    "#A complete list of candidates who received votes\n",
    "\n",
    "#The percentage of votes each candidate won\n",
    "\n",
    "#The total number of votes each candidate won\n",
    "\n",
    "#The winner of the election based on popular vote.\n",
    "\n"
   ]
  },
  {
   "cell_type": "code",
   "execution_count": 44,
   "metadata": {},
   "outputs": [],
   "source": [
    "total_votes = 0\n",
    "khan_votes = 0\n",
    "correy_votes = 0 \n",
    "li_votes = 0\n",
    "otooley_votes = 0\n"
   ]
  },
  {
   "cell_type": "code",
   "execution_count": null,
   "metadata": {},
   "outputs": [],
   "source": []
  },
  {
   "cell_type": "code",
   "execution_count": 55,
   "metadata": {},
   "outputs": [],
   "source": [
    "with open(election_data, newline = \"\", encoding=\"utf-8\") as csvfile:\n",
    "    csvreader = csv.reader(csvfile, delimiter = \",\")\n",
    "    csv_header = next(csvreader)\n",
    "    for row in csvreader:\n",
    "        total_votes = total_votes + 1 \n",
    "        if row[2] == \"Khan\": \n",
    "            khan_votes +=1\n",
    "        elif row[2] == \"Correy\":\n",
    "            correy_votes +=1\n",
    "        elif row[2] == \"Li\": \n",
    "             li_votes +=1\n",
    "        elif row[2] == \"O'Tooley\":\n",
    "            otooley_votes +=1\n",
    "    "
   ]
  },
  {
   "cell_type": "code",
   "execution_count": 61,
   "metadata": {},
   "outputs": [],
   "source": [
    "candidates = [\"Khan\", \"Correy\", \"Li\", \"O'Tooley\"]\n",
    "votes = [\n",
    "total_votes,\n",
    "khan_votes,\n",
    "correy_votes, \n",
    "li_votes,\n",
    "otooley_votes,\n",
    "]\n",
    "\n"
   ]
  },
  {
   "cell_type": "code",
   "execution_count": null,
   "metadata": {},
   "outputs": [],
   "source": [
    "#needed help understanding dict and keys looked that up\n",
    "#dict zip specifically\n"
   ]
  },
  {
   "cell_type": "code",
   "execution_count": 84,
   "metadata": {},
   "outputs": [],
   "source": [
    "candidatevotes = dict(zip(candidates,votes))\n",
    "#use key with max funct find winner google\n",
    "key = max(candidatevotes, key=candidatevotes.get)\n"
   ]
  },
  {
   "cell_type": "code",
   "execution_count": 63,
   "metadata": {},
   "outputs": [],
   "source": [
    "#percent votes\n",
    "khan_perc = (khan_votes/total_votes) *100\n",
    "correy_perc = (correy_votes/total_votes) *100\n",
    "li_perc = (li_votes/total_votes) *100\n",
    "otooley_perc = (otooley_votes/total_votes) *100"
   ]
  },
  {
   "cell_type": "code",
   "execution_count": 85,
   "metadata": {},
   "outputs": [
    {
     "name": "stdout",
     "output_type": "stream",
     "text": [
      "Election Results\n",
      "Total Votes: 7042002\n",
      "Khan: percent: 63.00001050837531 total: 4436462\n",
      "Correy: percent: 19.999994319797125 total: 1408400\n",
      "Li: percent: 13.999996023857989 total: 985880\n",
      "O'Tooley: percent: 2.999999147969569 total: 211260\n",
      "Winner: Khan\n"
     ]
    }
   ],
   "source": [
    "print(f\"Election Results\")\n",
    "print(f\"Total Votes: {total_votes}\")\n",
    "print(f\"Khan: percent: {khan_perc} total: {khan_votes}\")\n",
    "print(f\"Correy: percent: {correy_perc} total: {correy_votes}\")\n",
    "print(f\"Li: percent: {li_perc} total: {li_votes}\")\n",
    "print(f\"O'Tooley: percent: {otooley_perc} total: {otooley_votes}\")\n",
    "print(f\"Winner: {key}\" )\n",
    "\n",
    "\n"
   ]
  },
  {
   "cell_type": "code",
   "execution_count": 86,
   "metadata": {},
   "outputs": [],
   "source": [
    "output = os.path.join(\"polling.txt\")\n",
    "with open(output,\"w\") as file:\n",
    "    file.write(f\"Election Results\")\n",
    "    file.write(f\"Total Votes: {total_votes}\")\n",
    "    file.write(f\"Khan: percent: {khan_perc} total: {khan_votes}\")\n",
    "    file.write(f\"Correy: percent: {correy_perc} total: {correy_votes}\")\n",
    "    file.write(f\"Li: percent: {li_perc} total: {li_votes}\")\n",
    "    file.write(f\"O'Tooley: percent: {otooley_perc} total: {otooley_votes}\")\n",
    "    file.write(f\"Winner: {key}\" )"
   ]
  },
  {
   "cell_type": "code",
   "execution_count": null,
   "metadata": {},
   "outputs": [],
   "source": []
  },
  {
   "cell_type": "code",
   "execution_count": null,
   "metadata": {},
   "outputs": [],
   "source": []
  },
  {
   "cell_type": "code",
   "execution_count": null,
   "metadata": {},
   "outputs": [],
   "source": []
  },
  {
   "cell_type": "code",
   "execution_count": null,
   "metadata": {},
   "outputs": [],
   "source": []
  },
  {
   "cell_type": "code",
   "execution_count": null,
   "metadata": {},
   "outputs": [],
   "source": []
  },
  {
   "cell_type": "code",
   "execution_count": null,
   "metadata": {},
   "outputs": [],
   "source": []
  },
  {
   "cell_type": "code",
   "execution_count": null,
   "metadata": {},
   "outputs": [],
   "source": []
  },
  {
   "cell_type": "code",
   "execution_count": 60,
   "metadata": {},
   "outputs": [
    {
     "name": "stdout",
     "output_type": "stream",
     "text": [
      "Total Votes:7042002\n"
     ]
    }
   ],
   "source": []
  },
  {
   "cell_type": "code",
   "execution_count": null,
   "metadata": {},
   "outputs": [],
   "source": []
  },
  {
   "cell_type": "code",
   "execution_count": null,
   "metadata": {},
   "outputs": [],
   "source": []
  },
  {
   "cell_type": "code",
   "execution_count": null,
   "metadata": {},
   "outputs": [],
   "source": []
  },
  {
   "cell_type": "code",
   "execution_count": null,
   "metadata": {},
   "outputs": [],
   "source": []
  },
  {
   "cell_type": "code",
   "execution_count": null,
   "metadata": {},
   "outputs": [],
   "source": []
  },
  {
   "cell_type": "code",
   "execution_count": null,
   "metadata": {},
   "outputs": [],
   "source": []
  },
  {
   "cell_type": "code",
   "execution_count": null,
   "metadata": {},
   "outputs": [],
   "source": []
  },
  {
   "cell_type": "code",
   "execution_count": null,
   "metadata": {},
   "outputs": [],
   "source": []
  },
  {
   "cell_type": "code",
   "execution_count": null,
   "metadata": {},
   "outputs": [],
   "source": []
  },
  {
   "cell_type": "code",
   "execution_count": null,
   "metadata": {},
   "outputs": [],
   "source": []
  },
  {
   "cell_type": "code",
   "execution_count": null,
   "metadata": {},
   "outputs": [],
   "source": []
  },
  {
   "cell_type": "code",
   "execution_count": null,
   "metadata": {},
   "outputs": [],
   "source": []
  },
  {
   "cell_type": "code",
   "execution_count": null,
   "metadata": {},
   "outputs": [],
   "source": []
  },
  {
   "cell_type": "code",
   "execution_count": null,
   "metadata": {},
   "outputs": [],
   "source": []
  },
  {
   "cell_type": "code",
   "execution_count": null,
   "metadata": {},
   "outputs": [],
   "source": []
  },
  {
   "cell_type": "code",
   "execution_count": null,
   "metadata": {},
   "outputs": [],
   "source": []
  },
  {
   "cell_type": "code",
   "execution_count": null,
   "metadata": {},
   "outputs": [],
   "source": []
  },
  {
   "cell_type": "code",
   "execution_count": null,
   "metadata": {},
   "outputs": [],
   "source": []
  },
  {
   "cell_type": "code",
   "execution_count": null,
   "metadata": {},
   "outputs": [],
   "source": []
  },
  {
   "cell_type": "code",
   "execution_count": null,
   "metadata": {},
   "outputs": [],
   "source": []
  },
  {
   "cell_type": "code",
   "execution_count": null,
   "metadata": {},
   "outputs": [],
   "source": []
  },
  {
   "cell_type": "code",
   "execution_count": null,
   "metadata": {},
   "outputs": [],
   "source": []
  },
  {
   "cell_type": "code",
   "execution_count": null,
   "metadata": {},
   "outputs": [],
   "source": []
  },
  {
   "cell_type": "code",
   "execution_count": null,
   "metadata": {},
   "outputs": [],
   "source": []
  },
  {
   "cell_type": "code",
   "execution_count": null,
   "metadata": {},
   "outputs": [],
   "source": []
  },
  {
   "cell_type": "code",
   "execution_count": null,
   "metadata": {},
   "outputs": [],
   "source": []
  },
  {
   "cell_type": "code",
   "execution_count": null,
   "metadata": {},
   "outputs": [],
   "source": []
  }
 ],
 "metadata": {
  "kernelspec": {
   "display_name": "Python 3",
   "language": "python",
   "name": "python3"
  },
  "language_info": {
   "codemirror_mode": {
    "name": "ipython",
    "version": 3
   },
   "file_extension": ".py",
   "mimetype": "text/x-python",
   "name": "python",
   "nbconvert_exporter": "python",
   "pygments_lexer": "ipython3",
   "version": "3.7.3"
  }
 },
 "nbformat": 4,
 "nbformat_minor": 2
}
